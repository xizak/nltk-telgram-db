{
 "cells": [
  {
   "cell_type": "code",
   "execution_count": 15,
   "metadata": {},
   "outputs": [],
   "source": [
    "import nltk\n",
    "from nltk.corpus import state_union , stopwords\n",
    "\n",
    "stopWords = stopwords.words(\"english\")\n",
    "\n",
    "words = [w for w in state_union.words() if (w.isalpha() and w.lower() not in stopWords) ]\n"
   ]
  },
  {
   "cell_type": "code",
   "execution_count": 108,
   "metadata": {},
   "outputs": [],
   "source": [
    "with open(\"telegram_1.txt\" ,'r',encoding= 'utf-8') as chat : \n",
    "    text = chat.read()\n",
    "    sentences = nltk.sent_tokenize(text)\n",
    "\n",
    "empty_list = []\n",
    "\"for sentence in sentences :\"\n",
    "sentences[0].split(',')    \n",
    "\n",
    "for sentence in sentences :\n",
    "    try : \n",
    "        empty_list.append(sentence.split(',')[0])\n",
    "        empty_list.append(sentence.split(',')[1])\n",
    "        empty_list.append(sentence.split(',')[2])\n",
    "        empty_list.append(sentence.split(',')[3])\n",
    "        empty_list.append(sentence.split(',')[4])\n",
    "\n",
    "    except : \n",
    "        empty_list.append(sentence)"
   ]
  },
  {
   "cell_type": "code",
   "execution_count": 109,
   "metadata": {},
   "outputs": [
    {
     "data": {
      "text/plain": [
       "383"
      ]
     },
     "execution_count": 109,
     "metadata": {},
     "output_type": "execute_result"
    }
   ],
   "source": [
    "\n",
    "for e in range(len(empty_list)):\n",
    "    try:\n",
    "        empty_list.remove('')\n",
    "    except : break\n",
    "len(empty_list)"
   ]
  },
  {
   "cell_type": "code",
   "execution_count": 105,
   "metadata": {},
   "outputs": [
    {
     "name": "stdout",
     "output_type": "stream",
     "text": [
      "List Trainer: [########            ] 38%"
     ]
    },
    {
     "name": "stderr",
     "output_type": "stream",
     "text": [
      "[nltk_data] Downloading package averaged_perceptron_tagger to\n",
      "[nltk_data]     C:\\Users\\pc\\AppData\\Roaming\\nltk_data...\n",
      "[nltk_data]   Package averaged_perceptron_tagger is already up-to-\n",
      "[nltk_data]       date!\n",
      "[nltk_data] Downloading package punkt to\n",
      "[nltk_data]     C:\\Users\\pc\\AppData\\Roaming\\nltk_data...\n",
      "[nltk_data]   Package punkt is already up-to-date!\n",
      "[nltk_data] Downloading package stopwords to\n",
      "[nltk_data]     C:\\Users\\pc\\AppData\\Roaming\\nltk_data...\n",
      "[nltk_data]   Package stopwords is already up-to-date!\n"
     ]
    },
    {
     "name": "stdout",
     "output_type": "stream",
     "text": [
      "List Trainer: [####################] 100%\n",
      "> hey\n",
      " I don't have time to take classes Which profile , Hii Which location , Hyderabad Which location , In banglore, pune, mumbai Where from you , Bangalore Where , hyderabad , banglore Java Selinum , Yes Currently in which company he is working?\n",
      "> :q\n"
     ]
    }
   ],
   "source": [
    "from chatterbot import ChatBot\n",
    "from chatterbot.trainers import ListTrainer\n",
    "\n",
    "import time\n",
    "time.clock = time.time\n",
    "chatbot = ChatBot(\"Chatpot\")\n",
    "sentence = empty_list\n",
    "trainer = ListTrainer(chatbot)\n",
    "trainer.train(sentences)\n",
    "\n",
    "exit_conditions = (\":q\", \"quit\", \"exit\")\n",
    "while True:\n",
    "    query = input(\"> \")\n",
    "    if query in exit_conditions:\n",
    "        break\n",
    "    else:\n",
    "        print(f\" {chatbot.get_response(query)}\")\n"
   ]
  },
  {
   "cell_type": "code",
   "execution_count": 18,
   "metadata": {},
   "outputs": [
    {
     "name": "stdout",
     "output_type": "stream",
     "text": [
      "> slm\n",
      " who won?\n",
      "> i dont know\n",
      " i think it may rain.\n",
      "> or its a bad dataset to start with\n",
      " it's supposed to start at about eight.\n",
      "> or a bad model \n",
      " that's a bad day.\n",
      "> bye\n",
      " hi, how are you.\n",
      "> hi\n",
      " that would ruin things, i want to go so badly.\n",
      "> :q\n"
     ]
    }
   ],
   "source": [
    "\n",
    "\n",
    "exit_conditions = (\":q\", \"quit\", \"exit\")\n",
    "while True:\n",
    "    query = input(\"> \")\n",
    "    if query in exit_conditions:\n",
    "        break\n",
    "    else:\n",
    "        print(f\" {chatbot.get_response(query)}\")"
   ]
  },
  {
   "cell_type": "code",
   "execution_count": 12,
   "metadata": {},
   "outputs": [
    {
     "name": "stderr",
     "output_type": "stream",
     "text": [
      "[nltk_data] Error loading averaged_perceptron_tagger: <urlopen error\n",
      "[nltk_data]     [Errno 11001] getaddrinfo failed>\n",
      "[nltk_data] Error loading punkt: <urlopen error [Errno 11001]\n",
      "[nltk_data]     getaddrinfo failed>\n",
      "[nltk_data] Error loading stopwords: <urlopen error [Errno 11001]\n",
      "[nltk_data]     getaddrinfo failed>\n"
     ]
    },
    {
     "name": "stdout",
     "output_type": "stream",
     "text": [
      "> hey\n",
      " wee , wch kyn femma 👋🏻\n",
      "> hru\n",
      " thanks for asking.\n",
      "> i ll takethat as yes am gud\n",
      " no, but that was a random change of subject.\n",
      "> aaah i see \n",
      " i haven't seen her yet.\n",
      "> who ?\n",
      " i did.\n",
      "> u r kidding\n",
      " well, you'd better get her something.\n",
      "> who is she ?\n",
      " how's it going?\n",
      "> :q\n"
     ]
    }
   ],
   "source": [
    "from chatterbot import ChatBot\n",
    "import time\n",
    "time.clock = time.time\n",
    "\n",
    "chatbot = ChatBot(\"FirstBot\")\n",
    "\n",
    "exit_conditions = (\":q\", \"quit\", \"exit\")\n",
    "\n",
    "while True:\n",
    "    query = input(\"> \")\n",
    "    if query in exit_conditions:\n",
    "        break\n",
    "    else:\n",
    "        print(f\" {chatbot.get_response(query)}\")"
   ]
  }
 ],
 "metadata": {
  "kernelspec": {
   "display_name": "Python 3",
   "language": "python",
   "name": "python3"
  },
  "language_info": {
   "codemirror_mode": {
    "name": "ipython",
    "version": 3
   },
   "file_extension": ".py",
   "mimetype": "text/x-python",
   "name": "python",
   "nbconvert_exporter": "python",
   "pygments_lexer": "ipython3",
   "version": "3.8.3"
  }
 },
 "nbformat": 4,
 "nbformat_minor": 4
}
